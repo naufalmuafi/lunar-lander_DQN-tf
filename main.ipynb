{
 "cells": [
  {
   "cell_type": "markdown",
   "metadata": {},
   "source": [
    "# _Deep Q-Network Learning_\n",
    "## with Lunar Lander by OpenAI Gym\n",
    "\n",
    "In this project, it will train an agent to land a lunar lander safely on a landing pad on the surface of the moon.\n",
    "\n",
    "---\n",
    "\n",
    "by Naufal Mu'afi\n",
    "\n",
    "_copyright to prof. Andrew NG and DeepLearning.AI_"
   ]
  },
  {
   "cell_type": "markdown",
   "metadata": {},
   "source": [
    "## 1. Import Packages\n",
    "First, import all necessary packages"
   ]
  },
  {
   "cell_type": "code",
   "execution_count": null,
   "metadata": {},
   "outputs": [],
   "source": [
    "import time\n",
    "from collections import deque, namedtuple\n",
    "\n",
    "import gym\n",
    "import numpy as np\n",
    "import PIL.Image\n",
    "import tensorflow as tf\n",
    "import utils\n",
    "\n",
    "from pyvirtualdisplay import Display\n",
    "from tensorflow.keras import Sequential\n",
    "from tensorflow.keras.layers import Dense, Input\n",
    "from tensorflow.keras.losses import MSE\n",
    "from tensorflow.keras.optimizers import Adam"
   ]
  },
  {
   "cell_type": "code",
   "execution_count": null,
   "metadata": {},
   "outputs": [],
   "source": [
    "# set up a virtual display to render the Lunar Lander environment\n",
    "# Display(visible=0, size=(840, 480)).start()\n",
    "\n",
    "# set the random seed for TensorFlow\n",
    "tf.random.set_seed(utils.SEED)"
   ]
  },
  {
   "cell_type": "markdown",
   "metadata": {},
   "source": [
    "## 2. Hyperparameters"
   ]
  },
  {
   "cell_type": "code",
   "execution_count": null,
   "metadata": {},
   "outputs": [],
   "source": [
    "MEMORY_SIZE = 100_000     # size of memory buffer\n",
    "GAMMA = 0.995             # discount factor\n",
    "ALPHA = 1e-3              # learning rate  \n",
    "NUM_STEPS_FOR_UPDATE = 4  # perform a learning update every C time steps"
   ]
  },
  {
   "cell_type": "markdown",
   "metadata": {},
   "source": [
    "## 3. The Lunar Lander Environment"
   ]
  },
  {
   "cell_type": "markdown",
   "metadata": {},
   "source": []
  },
  {
   "cell_type": "markdown",
   "metadata": {},
   "source": [
    "## 4. Load The Lunar Lander Environment"
   ]
  },
  {
   "cell_type": "code",
   "execution_count": null,
   "metadata": {},
   "outputs": [],
   "source": [
    "env = gym.make('LunarLander-v2', render_mode=\"rgb_array\")"
   ]
  },
  {
   "cell_type": "code",
   "execution_count": null,
   "metadata": {},
   "outputs": [],
   "source": [
    "env.reset()\n",
    "PIL.Image.fromarray(env.render())"
   ]
  },
  {
   "cell_type": "code",
   "execution_count": null,
   "metadata": {},
   "outputs": [],
   "source": [
    "state_size = env.observation_space.shape\n",
    "num_actions = env.action_space.n\n",
    "\n",
    "print(f\"State Shape = {state_size}\")\n",
    "print(f\"Number of Actions = {num_actions}\")"
   ]
  },
  {
   "cell_type": "markdown",
   "metadata": {},
   "source": [
    "## 5. Interacting with the Gym Environment"
   ]
  },
  {
   "cell_type": "code",
   "execution_count": null,
   "metadata": {},
   "outputs": [],
   "source": [
    "initial_state = env.reset()"
   ]
  },
  {
   "cell_type": "code",
   "execution_count": null,
   "metadata": {},
   "outputs": [],
   "source": [
    "# select the action\n",
    "action = 0\n",
    "\n",
    "# run a single time step of the environment's dynamics with the given action\n",
    "next_state, reward, done, _, info = env.step(action)\n",
    "\n",
    "with np.printoptions(formatter={'float': '{:.3f}'.format}):\n",
    "  print(f\"Initial State\\t\\t: {initial_state}\")\n",
    "  print(f\"Action\\t\\t\\t: {action}\")\n",
    "  print(f\"Next State\\t\\t: {next_state}\")\n",
    "  print(f\"Reward Received\\t\\t: {reward}\")\n",
    "  print(f\"Episode Terminated\\t: {done}\")\n",
    "  print(f\"Info\\t\\t\\t: {info}\")"
   ]
  },
  {
   "cell_type": "markdown",
   "metadata": {},
   "source": [
    "## 6. Deep Q-Learning"
   ]
  },
  {
   "cell_type": "markdown",
   "metadata": {},
   "source": [
    "### 6.1 Target Network"
   ]
  },
  {
   "cell_type": "code",
   "execution_count": null,
   "metadata": {},
   "outputs": [],
   "source": [
    "# Create the Q-Network\n",
    "q_network = Sequential([\n",
    "  Input(shape=state_size),\n",
    "  Dense(units=128, activation='relu'),\n",
    "  Dense(units=64, activation='relu'),\n",
    "  Dense(units=num_actions, activation='linear')\n",
    "])\n",
    "\n",
    "# Create the Target Q^-Network\n",
    "target_q_network = Sequential([    \n",
    "  Input(shape=state_size),                      \n",
    "  Dense(units=128, activation='relu'),            \n",
    "  Dense(units=64, activation='relu'),            \n",
    "  Dense(units=num_actions, activation='linear'),    \n",
    "])\n",
    "\n",
    "optimizer = Adam(learning_rate=ALPHA)"
   ]
  },
  {
   "cell_type": "markdown",
   "metadata": {},
   "source": [
    "### 6.2 Experience Replay"
   ]
  },
  {
   "cell_type": "code",
   "execution_count": null,
   "metadata": {},
   "outputs": [],
   "source": [
    "# store expericences as named tuples\n",
    "experience = namedtuple(\"Experience\", field_names=[\"state\", \"action\", \"reward\", \"next_state\", \"done\"])"
   ]
  },
  {
   "cell_type": "markdown",
   "metadata": {},
   "source": [
    "## 7. Deep Q-Learning Algorithm with Experience Replay"
   ]
  },
  {
   "cell_type": "code",
   "execution_count": null,
   "metadata": {},
   "outputs": [],
   "source": [
    "def compute_loss(experiences, gamma, q_network, target_q_network):\n",
    "  \"\"\" \n",
    "    Calculates the loss.\n",
    "    \n",
    "    Args:\n",
    "      experiences       : (tuple) tuple of [\"state\", \"action\", \"reward\", \"next_state\", \"done\"] namedtuples\n",
    "      gamma             : (float) The discount factor.\n",
    "      q_network         : (tf.keras.Sequential) Keras model for predicting the q_values\n",
    "      target_q_network  : (tf.keras.Sequential) Karas model for predicting the targets\n",
    "          \n",
    "    Returns:\n",
    "      loss: (TensorFlow Tensor(shape=(0,), dtype=int32)) the Mean-Squared Error between the y targets and the Q(s,a) values.\n",
    "  \"\"\"\n",
    "  \n",
    "  # unpack the mini-batch of experience tuples\n",
    "  states, actions, rewards, next_states, done_vals = experiences\n",
    "  \n",
    "  # compute max Q^(s,a)\n",
    "  max_qsa = tf.reduce_max(target_q_network(next_states), axis=-1)\n",
    "  \n",
    "  # set y = R if episode terminates, otherwise set y = R + γ max Q^(s,a).\n",
    "  y_targets = rewards + (gamma * max_qsa * (1 - done_vals))\n",
    "  \n",
    "  # get the q_values\n",
    "  q_values = q_network(states)\n",
    "  q_values = tf.gather_nd(\n",
    "    q_values,\n",
    "    tf.stack([tf.range(q_values.shape[0]),\n",
    "              tf.cast(actions, tf.int32)],\n",
    "             axis=1)\n",
    "  )\n",
    "  \n",
    "  # compute the loss\n",
    "  loss = MSE(y_targets, q_values)\n",
    "  \n",
    "  return loss"
   ]
  },
  {
   "cell_type": "markdown",
   "metadata": {},
   "source": [
    "## 8. Update the Network Weights"
   ]
  },
  {
   "cell_type": "code",
   "execution_count": null,
   "metadata": {},
   "outputs": [],
   "source": [
    "@tf.function\n",
    "def agent_learn(experiences, gamma):\n",
    "  \"\"\"\n",
    "    Updates the weights of the Q networks.\n",
    "    \n",
    "    Args:\n",
    "      experiences : (tuple) tuple of [\"state\", \"action\", \"reward\", \"next_state\", \"done\"] namedtuples\n",
    "      gamma       : (float) The discount factor.\n",
    "  \"\"\"\n",
    "  \n",
    "  # calculate the loss\n",
    "  with tf.GradientTape() as tape:\n",
    "    loss = compute_loss(experiences, gamma, q_network, target_q_network)\n",
    "  \n",
    "  # get the gradients of the loss with respect to the weights\n",
    "  gradients = tape.gradient(loss, q_network.trainable_variables)\n",
    "  \n",
    "  # update the weights of the q_network\n",
    "  optimizer.apply_gradients(zip(gradients, q_network.trainable_variables))\n",
    "  \n",
    "  # update the weights of target q_network\n",
    "  utils.update_target_network(q_network, target_q_network)"
   ]
  },
  {
   "cell_type": "markdown",
   "metadata": {},
   "source": [
    "## 9. Train the Agent"
   ]
  },
  {
   "cell_type": "code",
   "execution_count": null,
   "metadata": {},
   "outputs": [],
   "source": [
    "start = time.time()\n",
    "\n",
    "num_episodes = 2000\n",
    "max_num_timesteps = 1000\n",
    "\n",
    "total_point_history = []\n",
    "\n",
    "num_p_av = 100  # number of total points to use for averaging\n",
    "epsilon = 1.0   # initialize ε value for ε-greedy policy\n",
    "\n",
    "# create a memory buffer D with capacity N\n",
    "memory_buffer = deque(maxlen=MEMORY_SIZE)\n",
    "\n",
    "# set the target network weights equal to the Q-Network weights\n",
    "target_q_network.set_weights(q_network.get_weights())\n",
    "\n",
    "for i in range(num_episodes):\n",
    "  \n",
    "  # reset the env to the initial state/obs space and get the initial state\n",
    "  state, _ = env.reset()\n",
    "  total_points = 0\n",
    "  \n",
    "  for t in range(max_num_timesteps):    \n",
    "    # from the current states S choose an action A using an ε-greedy policy  \n",
    "    state_qn = np.expand_dims(state, axis=0) # Expand dimensions of the numpy array                    \n",
    "    q_values = q_network(state_qn)    \n",
    "    action = utils.get_action(q_values, epsilon)\n",
    "    \n",
    "    # take action A and receive reward R and the next state S'\n",
    "    next_state, reward, done, _, _ = env.step(action)\n",
    "    \n",
    "    # Store experience tuple (S,A,R,S') in the memory buffer.\n",
    "    # We store the done variable as well for convenience.\n",
    "    memory_buffer.append(experience(state, action, reward, next_state, done))\n",
    "        \n",
    "    # Only update the network every NUM_STEPS_FOR_UPDATE time steps.\n",
    "    update = utils.check_update_conditions(t, NUM_STEPS_FOR_UPDATE, memory_buffer)\n",
    "        \n",
    "    if update:\n",
    "      # Sample random mini-batch of experience tuples (S,A,R,S') from D\n",
    "      experiences = utils.get_experiences(memory_buffer)\n",
    "            \n",
    "      # Set the y targets, perform a gradient descent step,\n",
    "      # and update the network weights.\n",
    "      agent_learn(experiences, GAMMA)\n",
    "        \n",
    "    state = next_state.copy()\n",
    "    total_points += reward\n",
    "        \n",
    "    if done:\n",
    "      break\n",
    "  \n",
    "  total_point_history.append(total_points)\n",
    "  av_latest_points = np.mean(total_point_history[-num_p_av:])\n",
    "  \n",
    "  # Update the ε value\n",
    "  epsilon = utils.get_new_eps(epsilon)\n",
    "  \n",
    "  print(f\"\\rEpisode {i+1} | Total point average of the last {num_p_av} episodes: {av_latest_points:.2f}\", end=\"\")\n",
    "  \n",
    "  if (i+1) % num_p_av == 0:\n",
    "    print(f\"\\rEpisode {i+1} | Total point average of the last {num_p_av} episodes: {av_latest_points:.2f}\")\n",
    "  \n",
    "  # We will consider that the environment is solved if we get an\n",
    "  # average of 200 points in the last 100 episodes.\n",
    "  \n",
    "  if av_latest_points >= 200.0:\n",
    "    print(f\"\\n\\nEnvironment solved in {i+1} episodes!\")\n",
    "    q_network.save('lunar_lander_model.h5')\n",
    "    \n",
    "    break\n",
    "\n",
    "tot_time = time.time() - start\n",
    "print(f\"\\nTotal Runtime: {tot_time:.2f} s ({(tot_time/60):.2f} min)\")"
   ]
  },
  {
   "cell_type": "code",
   "execution_count": null,
   "metadata": {},
   "outputs": [],
   "source": [
    "# Plot the point history\n",
    "utils.plot_history(total_point_history)"
   ]
  },
  {
   "cell_type": "code",
   "execution_count": null,
   "metadata": {},
   "outputs": [],
   "source": [
    "# Suppress warnings from imageio\n",
    "import logging\n",
    "logging.getLogger().setLevel(logging.ERROR)"
   ]
  },
  {
   "cell_type": "code",
   "execution_count": null,
   "metadata": {},
   "outputs": [],
   "source": [
    "filename = \"./videos/lunar_lander.mp4\"\n",
    "\n",
    "utils.create_video(filename, env, q_network)\n",
    "utils.embed_mp4(filename)"
   ]
  }
 ],
 "metadata": {
  "kernelspec": {
   "display_name": "Python 3",
   "language": "python",
   "name": "python3"
  },
  "language_info": {
   "codemirror_mode": {
    "name": "ipython",
    "version": 3
   },
   "file_extension": ".py",
   "mimetype": "text/x-python",
   "name": "python",
   "nbconvert_exporter": "python",
   "pygments_lexer": "ipython3",
   "version": "3.10.7"
  }
 },
 "nbformat": 4,
 "nbformat_minor": 2
}
